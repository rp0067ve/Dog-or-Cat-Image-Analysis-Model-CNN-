{
 "cells": [
  {
   "cell_type": "markdown",
   "metadata": {
    "colab_type": "text",
    "id": "sqwCsklIajpa"
   },
   "source": [
    "# Convolutional Neural Network"
   ]
  },
  {
   "cell_type": "markdown",
   "metadata": {
    "colab_type": "text",
    "id": "LZLpO1NYam80"
   },
   "source": [
    "## Importing Libraries"
   ]
  },
  {
   "cell_type": "code",
   "execution_count": 1,
   "metadata": {
    "colab": {},
    "colab_type": "code",
    "id": "4_UetDP-aUg1",
    "scrolled": true
   },
   "outputs": [],
   "source": [
    "import tensorflow as tf\n",
    "from tensorflow.keras.preprocessing.image import ImageDataGenerator"
   ]
  },
  {
   "cell_type": "markdown",
   "metadata": {
    "colab_type": "text",
    "id": "_dOo0ncYaqIw"
   },
   "source": [
    "## Data Preprocessing"
   ]
  },
  {
   "cell_type": "markdown",
   "metadata": {
    "colab_type": "text",
    "id": "ayMmBJsvatzt"
   },
   "source": [
    "## Train dataset preprocessing"
   ]
  },
  {
   "cell_type": "code",
   "execution_count": 2,
   "metadata": {
    "colab": {},
    "colab_type": "code",
    "id": "jmyfn48vGNbz"
   },
   "outputs": [
    {
     "name": "stdout",
     "output_type": "stream",
     "text": [
      "Found 8000 images belonging to 2 classes.\n"
     ]
    }
   ],
   "source": [
    "train_datagen = ImageDataGenerator(rescale = 1./255,\n",
    "                                   shear_range = 0.2,\n",
    "                                   zoom_range = 0.2,\n",
    "                                   horizontal_flip = True)\n",
    "training_set = train_datagen.flow_from_directory('dataset/training_set',\n",
    "                                                 target_size = (64, 64),\n",
    "                                                 batch_size = 32,\n",
    "                                                 class_mode = 'binary')"
   ]
  },
  {
   "cell_type": "markdown",
   "metadata": {
    "colab_type": "text",
    "id": "lYEMUEdFaw08"
   },
   "source": [
    "## Test dataset preprocessing"
   ]
  },
  {
   "cell_type": "code",
   "execution_count": 3,
   "metadata": {
    "colab": {},
    "colab_type": "code",
    "id": "A3ftWKdEGC3i"
   },
   "outputs": [
    {
     "name": "stdout",
     "output_type": "stream",
     "text": [
      "Found 2000 images belonging to 2 classes.\n"
     ]
    }
   ],
   "source": [
    "test_datagen = ImageDataGenerator(rescale = 1./255)\n",
    "test_set = test_datagen.flow_from_directory('dataset/test_set',\n",
    "                                            target_size = (64, 64),\n",
    "                                            batch_size = 32,\n",
    "                                            class_mode = 'binary')"
   ]
  },
  {
   "cell_type": "markdown",
   "metadata": {
    "colab_type": "text",
    "id": "CeXpznwfaztw"
   },
   "source": [
    "# Building Convolutional Neural Networks"
   ]
  },
  {
   "cell_type": "markdown",
   "metadata": {
    "colab_type": "text",
    "id": "4yuHqpbCa4uh"
   },
   "source": [
    "## Initialize"
   ]
  },
  {
   "cell_type": "code",
   "execution_count": 4,
   "metadata": {
    "colab": {},
    "colab_type": "code",
    "id": "tPaBXHgiGT7Q"
   },
   "outputs": [
    {
     "name": "stderr",
     "output_type": "stream",
     "text": [
      "2023-03-29 20:59:38.640106: I tensorflow/core/platform/cpu_feature_guard.cc:151] This TensorFlow binary is optimized with oneAPI Deep Neural Network Library (oneDNN) to use the following CPU instructions in performance-critical operations:  AVX2 FMA\n",
      "To enable them in other operations, rebuild TensorFlow with the appropriate compiler flags.\n"
     ]
    }
   ],
   "source": [
    "cnn = tf.keras.models.Sequential()"
   ]
  },
  {
   "cell_type": "markdown",
   "metadata": {
    "colab_type": "text",
    "id": "qX42oMzWa83O"
   },
   "source": [
    "## Convolutional"
   ]
  },
  {
   "cell_type": "code",
   "execution_count": 5,
   "metadata": {
    "colab": {},
    "colab_type": "code",
    "id": "zzU4W17OGUCY"
   },
   "outputs": [],
   "source": [
    "cnn.add(tf.keras.layers.Conv2D(filters=32, kernel_size=3, activation='relu', input_shape=[64, 64, 3]))"
   ]
  },
  {
   "cell_type": "markdown",
   "metadata": {
    "colab_type": "text",
    "id": "wdQ8hV4ya-d_"
   },
   "source": [
    "## Pooling"
   ]
  },
  {
   "cell_type": "code",
   "execution_count": 6,
   "metadata": {
    "colab": {},
    "colab_type": "code",
    "id": "rLU_8tadGUE-"
   },
   "outputs": [],
   "source": [
    "cnn.add(tf.keras.layers.MaxPool2D(pool_size=2, strides=2))"
   ]
  },
  {
   "cell_type": "markdown",
   "metadata": {
    "colab_type": "text",
    "id": "1oR1GqPQbA-6"
   },
   "source": [
    "## Adding a layer"
   ]
  },
  {
   "cell_type": "code",
   "execution_count": 7,
   "metadata": {
    "colab": {},
    "colab_type": "code",
    "id": "nUmXz4wZGUHc"
   },
   "outputs": [],
   "source": [
    "cnn.add(tf.keras.layers.Conv2D(filters=32, kernel_size=3, activation='relu'))\n",
    "cnn.add(tf.keras.layers.MaxPool2D(pool_size=2, strides=2))"
   ]
  },
  {
   "cell_type": "markdown",
   "metadata": {
    "colab_type": "text",
    "id": "sHxYU2cebQak"
   },
   "source": [
    "## Flattening"
   ]
  },
  {
   "cell_type": "code",
   "execution_count": 8,
   "metadata": {
    "colab": {},
    "colab_type": "code",
    "id": "A6wDatVxGUJi"
   },
   "outputs": [],
   "source": [
    "cnn.add(tf.keras.layers.Flatten())"
   ]
  },
  {
   "cell_type": "code",
   "execution_count": 9,
   "metadata": {
    "colab": {},
    "colab_type": "code",
    "id": "thluLIRyGULh"
   },
   "outputs": [],
   "source": [
    "cnn.add(tf.keras.layers.Dense(units=128, activation='relu'))"
   ]
  },
  {
   "cell_type": "markdown",
   "metadata": {
    "colab_type": "text",
    "id": "kdttroqLbboW"
   },
   "source": [
    "## Adding a output layer"
   ]
  },
  {
   "cell_type": "code",
   "execution_count": 10,
   "metadata": {
    "colab": {},
    "colab_type": "code",
    "id": "pqTFDZ3zGUNw"
   },
   "outputs": [],
   "source": [
    "cnn.add(tf.keras.layers.Dense(units=1, activation='sigmoid'))"
   ]
  },
  {
   "cell_type": "markdown",
   "metadata": {
    "colab_type": "text",
    "id": "ACr0-G9TbdoM"
   },
   "source": [
    "# Train a model"
   ]
  },
  {
   "cell_type": "markdown",
   "metadata": {
    "colab_type": "text",
    "id": "9rQAnacubgtj"
   },
   "source": [
    "## Compiling Models"
   ]
  },
  {
   "cell_type": "code",
   "execution_count": 11,
   "metadata": {
    "colab": {},
    "colab_type": "code",
    "id": "njVNYnbpGUQH"
   },
   "outputs": [],
   "source": [
    "cnn.compile(optimizer = 'adam', loss = 'binary_crossentropy', metrics = ['accuracy'])"
   ]
  },
  {
   "cell_type": "markdown",
   "metadata": {
    "colab_type": "text",
    "id": "1WEOtxVPblFh"
   },
   "source": [
    "## Training a model using training dataset"
   ]
  },
  {
   "cell_type": "code",
   "execution_count": 12,
   "metadata": {
    "colab": {},
    "colab_type": "code",
    "id": "V3UMSSpDGUSV"
   },
   "outputs": [
    {
     "name": "stdout",
     "output_type": "stream",
     "text": [
      "Epoch 1/25\n",
      "250/250 [==============================] - 45s 176ms/step - loss: 0.6662 - accuracy: 0.5878 - val_loss: 0.6226 - val_accuracy: 0.6660\n",
      "Epoch 2/25\n",
      "250/250 [==============================] - 39s 157ms/step - loss: 0.6184 - accuracy: 0.6618 - val_loss: 0.5773 - val_accuracy: 0.7125\n",
      "Epoch 3/25\n",
      "250/250 [==============================] - 41s 165ms/step - loss: 0.5682 - accuracy: 0.7065 - val_loss: 0.5512 - val_accuracy: 0.7360\n",
      "Epoch 4/25\n",
      "250/250 [==============================] - 42s 168ms/step - loss: 0.5452 - accuracy: 0.7239 - val_loss: 0.5398 - val_accuracy: 0.7320\n",
      "Epoch 5/25\n",
      "250/250 [==============================] - 42s 169ms/step - loss: 0.5103 - accuracy: 0.7516 - val_loss: 0.5141 - val_accuracy: 0.7480\n",
      "Epoch 6/25\n",
      "250/250 [==============================] - 42s 166ms/step - loss: 0.4856 - accuracy: 0.7630 - val_loss: 0.5078 - val_accuracy: 0.7560\n",
      "Epoch 7/25\n",
      "250/250 [==============================] - 43s 171ms/step - loss: 0.4782 - accuracy: 0.7654 - val_loss: 0.5522 - val_accuracy: 0.7140\n",
      "Epoch 8/25\n",
      "250/250 [==============================] - 42s 168ms/step - loss: 0.4604 - accuracy: 0.7855 - val_loss: 0.4748 - val_accuracy: 0.7885\n",
      "Epoch 9/25\n",
      "250/250 [==============================] - 42s 168ms/step - loss: 0.4509 - accuracy: 0.7878 - val_loss: 0.4585 - val_accuracy: 0.7920\n",
      "Epoch 10/25\n",
      "250/250 [==============================] - 42s 169ms/step - loss: 0.4361 - accuracy: 0.7972 - val_loss: 0.4617 - val_accuracy: 0.7900\n",
      "Epoch 11/25\n",
      "250/250 [==============================] - 42s 169ms/step - loss: 0.4160 - accuracy: 0.8079 - val_loss: 0.4460 - val_accuracy: 0.7990\n",
      "Epoch 12/25\n",
      "250/250 [==============================] - 43s 170ms/step - loss: 0.4066 - accuracy: 0.8161 - val_loss: 0.4547 - val_accuracy: 0.7950\n",
      "Epoch 13/25\n",
      "250/250 [==============================] - 41s 165ms/step - loss: 0.3963 - accuracy: 0.8213 - val_loss: 0.4957 - val_accuracy: 0.7890\n",
      "Epoch 14/25\n",
      "250/250 [==============================] - 41s 163ms/step - loss: 0.3769 - accuracy: 0.8295 - val_loss: 0.5190 - val_accuracy: 0.7820\n",
      "Epoch 15/25\n",
      "250/250 [==============================] - 42s 167ms/step - loss: 0.3654 - accuracy: 0.8316 - val_loss: 0.4501 - val_accuracy: 0.8155\n",
      "Epoch 16/25\n",
      "250/250 [==============================] - 42s 168ms/step - loss: 0.3556 - accuracy: 0.8405 - val_loss: 0.4715 - val_accuracy: 0.7915\n",
      "Epoch 17/25\n",
      "250/250 [==============================] - 40s 159ms/step - loss: 0.3445 - accuracy: 0.8491 - val_loss: 0.4937 - val_accuracy: 0.7910\n",
      "Epoch 18/25\n",
      "250/250 [==============================] - 42s 168ms/step - loss: 0.3309 - accuracy: 0.8535 - val_loss: 0.4767 - val_accuracy: 0.8065\n",
      "Epoch 19/25\n",
      "250/250 [==============================] - 41s 166ms/step - loss: 0.3059 - accuracy: 0.8644 - val_loss: 0.5152 - val_accuracy: 0.7890\n",
      "Epoch 20/25\n",
      "250/250 [==============================] - 42s 170ms/step - loss: 0.3111 - accuracy: 0.8643 - val_loss: 0.4971 - val_accuracy: 0.7990\n",
      "Epoch 21/25\n",
      "250/250 [==============================] - 42s 166ms/step - loss: 0.2849 - accuracy: 0.8758 - val_loss: 0.5003 - val_accuracy: 0.8020\n",
      "Epoch 22/25\n",
      "250/250 [==============================] - 42s 168ms/step - loss: 0.2922 - accuracy: 0.8734 - val_loss: 0.5041 - val_accuracy: 0.8010\n",
      "Epoch 23/25\n",
      "250/250 [==============================] - 42s 169ms/step - loss: 0.2686 - accuracy: 0.8835 - val_loss: 0.5774 - val_accuracy: 0.7750\n",
      "Epoch 24/25\n",
      "250/250 [==============================] - 43s 172ms/step - loss: 0.2620 - accuracy: 0.8903 - val_loss: 0.5245 - val_accuracy: 0.8110\n",
      "Epoch 25/25\n",
      "250/250 [==============================] - 42s 168ms/step - loss: 0.2524 - accuracy: 0.8928 - val_loss: 0.5355 - val_accuracy: 0.7915\n"
     ]
    },
    {
     "data": {
      "text/plain": [
       "<keras.callbacks.History at 0x7f7b19eaec10>"
      ]
     },
     "execution_count": 12,
     "metadata": {},
     "output_type": "execute_result"
    }
   ],
   "source": [
    "cnn.fit(x = training_set, validation_data = test_set, epochs = 25)"
   ]
  },
  {
   "cell_type": "markdown",
   "metadata": {
    "colab_type": "text",
    "id": "MM9P_vCubpOt"
   },
   "source": [
    "# Predictions result"
   ]
  },
  {
   "cell_type": "code",
   "execution_count": 13,
   "metadata": {
    "colab": {},
    "colab_type": "code",
    "id": "lTXOQ_cyGUWk"
   },
   "outputs": [],
   "source": [
    "import numpy as np\n",
    "from tensorflow.keras.preprocessing import image\n",
    "test_image = image.load_img('dataset/single_prediction/cat_or_dog_2.jpg', target_size = (64, 64))\n",
    "test_image = image.img_to_array(test_image)\n",
    "test_image = np.expand_dims(test_image, axis = 0)\n",
    "result = cnn.predict(test_image)\n",
    "training_set.class_indices\n",
    "if result[0][0] == 1:\n",
    "  prediction = 'dog'\n",
    "else:\n",
    "  prediction = 'cat'"
   ]
  },
  {
   "cell_type": "code",
   "execution_count": 14,
   "metadata": {
    "colab": {},
    "colab_type": "code",
    "id": "_crmIc2uGUZA"
   },
   "outputs": [
    {
     "name": "stdout",
     "output_type": "stream",
     "text": [
      "dog\n"
     ]
    }
   ],
   "source": [
    "print(prediction)"
   ]
  },
  {
   "cell_type": "code",
   "execution_count": null,
   "metadata": {
    "colab": {},
    "colab_type": "code",
    "id": "LueH5VLgaUhS"
   },
   "outputs": [],
   "source": []
  }
 ],
 "metadata": {
  "colab": {
   "collapsed_sections": [],
   "name": "convolutional_neural_network.ipynb",
   "provenance": []
  },
  "kernelspec": {
   "display_name": "Python 3 (ipykernel)",
   "language": "python",
   "name": "python3"
  },
  "language_info": {
   "codemirror_mode": {
    "name": "ipython",
    "version": 3
   },
   "file_extension": ".py",
   "mimetype": "text/x-python",
   "name": "python",
   "nbconvert_exporter": "python",
   "pygments_lexer": "ipython3",
   "version": "3.9.16"
  }
 },
 "nbformat": 4,
 "nbformat_minor": 1
}
